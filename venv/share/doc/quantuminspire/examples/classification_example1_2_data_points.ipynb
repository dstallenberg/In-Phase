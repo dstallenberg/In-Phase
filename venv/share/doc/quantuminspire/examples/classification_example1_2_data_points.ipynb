{
 "cells": [
  {
   "cell_type": "markdown",
   "metadata": {},
   "source": [
    "# <center> A Quantum distance-based classifier </center>#"
   ]
  },
  {
   "cell_type": "markdown",
   "metadata": {},
   "source": [
    "## <center> Robert Wezeman, TNO </center> ##"
   ]
  },
  {
   "cell_type": "markdown",
   "metadata": {},
   "source": [
    "<a name=\"contents\"></a>\n",
    "# Table of Contents\n",
    "* [Introduction](#introduction)\n",
    "* [Problem](#problem)\n",
    "* [Amplitude Encoding](#amplitude)\n",
    "* [Data preprocessing](#dataset)\n",
    "* [Quantum algorithm](#algorithm)\n",
    "* [Conclusion and further work](#conclusion)\n",
    "\n"
   ]
  },
  {
   "cell_type": "code",
   "execution_count": 1,
   "metadata": {},
   "outputs": [],
   "source": [
    "## Import external python file\n",
    "import nbimporter\n",
    "import numpy as np\n",
    "from data_plotter import get_bin, DataPlotter  # for easier plotting\n",
    "DataPlotter = DataPlotter()"
   ]
  },
  {
   "cell_type": "markdown",
   "metadata": {},
   "source": [
    "$$ \\newcommand{\\ket}[1]{\\left|{#1}\\right\\rangle} $$\n"
   ]
  },
  {
   "cell_type": "markdown",
   "metadata": {},
   "source": [
    "<a name=\"introduction\"></a>\n",
    "# Introduction #\n",
    "\n",
    "\n",
    "Consider the following scatter plot of the first two flowers in [the famous Iris flower data set](https://en.wikipedia.org/wiki/Iris_flower_data_set)\n",
    "\n",
    "<img src=\"images/plot.png\">\n",
    "\n",
    "\n",
    "Notice that just two features, the sepal width and the sepal length, divide the two different Iris species into different regions in the plot. This gives rise to the question: given only the sepal length and sepal width of a flower can we classify the flower by their correct species? This type of problem, also known as [statistical classification](https://en.wikipedia.org/wiki/Statistical_classification), is a common problem in machine learning. In general, a classifier is constructed by letting it learn a function which gives the desired output based on a sufficient amount of data. This is called supervised learning, as the desired output (the labels of the data points) are known. After learning, the classifier can classify an unlabeled data point based on the learned function. The quality of a classifier improves if it has a larger training dataset it can learn on. The true power of this quantum classifier becomes clear when using extremely large data sets.  \n",
    "In this notebook we will describe how to build a distance-based classifier on the Quantum Inspire using amplitude encoding. It turns out that, once the system is initialized in the desired state, regardless of the size of training data, the actual algorithm consists of only 3 actions, one Hadamard gate and two measurements. This has huge implications for the scalability of this problem for large data sets. Using only 4 qubits we show how to encode two data points, both of a different class, to predict the label for a third data point. In this notebook we will demonstrate how to use the Quantum Inspire SDK using QASM-code, we will also provide the code to obtain the same results for the ProjectQ framework.\n",
    "\n",
    "\n",
    "\n",
    "[Back to Table of Contents](#contents)"
   ]
  },
  {
   "cell_type": "markdown",
   "metadata": {},
   "source": [
    "<a name=\"problem\"></a>\n",
    "# Problem #\n",
    "We define the following binary classification problem: Given the data set \n",
    "$$\\mathcal{D} = \\Big\\{ ({\\bf x}_1, y_1), \\ldots ({\\bf x}_M , y_M)  \\Big\\},$$\n",
    "consisting of $M$ data points $x_i\\in\\mathbb{R}^n$ and corresponding labels $y_i\\in \\{-1, 1\\}$, give a prediction for the label $\\tilde{y}$ corresponding to an unlabeled data point $\\bf\\tilde{x}$. The classifier we shall implement with our quantum circuit is a distance-based classifier and is given by\n",
    "\\begin{equation}\\newcommand{\\sgn}{{\\rm sgn}}\\newcommand{\\abs}[1]{\\left\\lvert#1\\right\\rvert}\\label{eq:classifier} \\tilde{y} = \\sgn\\left(\\sum_{m=0}^{M-1} y_m \\left[1-\\frac{1}{4M}\\abs{{\\bf\\tilde{x}}-{\\bf x}_m}^2\\right]\\right). \\hspace{3cm} (1)\\end{equation}\n",
    "\n",
    "This is a typical $M$-nearest-neighbor model, where each data point is given a weight related to the distance measure. To implement this classifier on a quantum computer, we need a way to encode the information of the training data set in a quantum state. We do this by first encoding the training data in the amplitudes of a quantum system, and then manipulate the amplitudes of then the amplitudes will be manipulated by quantum gates such that we obtain a result representing the above classifier. Encoding input features in the amplitude of a quantum system is known as amplitude encoding.\n",
    "\n",
    "\n",
    "[Back to Contents](#contents)"
   ]
  },
  {
   "cell_type": "markdown",
   "metadata": {},
   "source": [
    "<a name=\"amplitude\"></a>\n",
    "# Amplitude encoding #\n",
    "Suppose we want to encode a classical vector $\\bf{x}\\in\\mathbb{R}^N$ by some amplitudes of a quantum system. We assume $N=2^n$ and that $\\bf{x}$ is normalised to unit length, meaning ${\\bf{x}^T{x}}=1$. We can encode $\\bf{x}$ in the amplitudes of a $n$-qubit system in the following way\n",
    "\\begin{equation}\n",
    "    {\\bf x} = \\begin{pmatrix}x^1 \\\\ \\vdots \\\\ x^N\\end{pmatrix} \\Longleftrightarrow{} \\ket{\\psi_{{\\bf x}}} = \\sum_{i=0}^{N-1}x^i\\ket{i},\n",
    "\\end{equation}\n",
    "where $\\ket{i}$ is the $i^{th}$ entry of the computational basis $\\left\\{\\ket{0\\ldots0},\\ldots,\\ket{1\\ldots1}\\right\\}$. By applying an efficient quantum algorithm (resources growing polynomially in the number of qubits $n$), one can manipulate the $2^n$ amplitudes super efficiently, that is $\\mathcal{O}\\left(\\log N\\right)$. This follows as manipulating all amplitudes requires an operation on each of the $n = \\mathcal{O}\\left(\\log N\\right)$ qubits. For algorithms to be truly super-efficient, the phase where the data is encoded must also be at most polynomial in the number of qubits. The idea of quantum memory, sometimes referred as quantum RAM (QRAM), is a particular interesting one. Suppose we first run some quantum algorithm, for example in quantum chemistry, with as output some resulting quantum states. If these states could be fed into a quantum classifier, the encoding phase is not needed anymore. Finding efficient data encoding systems is still a topic of active research. We will restrict ourselves here to the implementation of the algorithm, more details can be found in the references.\n",
    "\n",
    "<a name=\"state\"></a>\n",
    "The algorithm requires the $n$-qubit quantum system to be in the following state \n",
    "\\begin{equation}\\label{eq:prepstate}\n",
    "    \\ket{\\mathcal{D}} = \\frac{1}{\\sqrt{2M}} \\sum_{m=0}^{M-1} \\ket{m}\\Big(\\ket{0}\\ket{\\psi_{\\bf\\tilde{{x}}}} + \\ket{1}\\ket{\\psi_{\\bf{x}_m}}\\Big)\\ket{y_m}.\\hspace{3cm} (2)\n",
    "\\end{equation}\n",
    "Here $\\ket{m}$ is the $m^{th}$ state of the computational basis used to keep track of the $m^{th}$ training input. The second register is a single ancillary qubit entangled with the third register. The excited state of the ancillary qubit is entangled with the $m^{th}$ training state $\\ket{\\psi_{{x}_m}}$, while the ground state is entangled with the new input state $\\ket{\\psi_{\\tilde{x}}}$. The last register encodes the label of the $m^{th}$ training data point by\n",
    "\\begin{equation}\n",
    "\\begin{split}\n",
    "    y_m = -1 \\Longleftrightarrow& \\ket{y_m} = \\ket{0},\\\\\n",
    "    y_m = 1 \\Longleftrightarrow& \\ket{y_m} = \\ket{1}.\n",
    "\\end{split}\n",
    "\\end{equation}\n",
    "Once in this state the algorithm only consists of the following three operations:\n",
    "\n",
    "1. Apply a Hadamard gate on the second register to obtain \n",
    "\n",
    "  $$\\frac{1}{2\\sqrt{M}} \\sum_{m=0}^{M-1} \\ket{m}\\Big(\\ket{0}\\ket{\\psi_{\\bf\\tilde{x}+x_m}} + \\ket{1}\\ket{\\psi_{\\bf\\tilde{x}-x_m}}\\Big)\\ket{y_m},$$\n",
    "\n",
    "  where $\\ket{\\psi_{\\bf\\tilde{{x}}\\pm{x}_m}} = \\ket{\\psi_{\\tilde{\\bf{x}}}}\\pm \\ket{\\psi_{\\bf{x}_m}}$.  \n",
    "  \n",
    "2. Measure the second qubit. We restart the algorithm if we measure a $\\ket{1}$ and only continue if we are in the $\\ket{0}$ branch. We continue the algorithm with a probability $p_{acc} = \\frac{1}{4M}\\sum_M\\abs{{\\bf\\tilde{x}}+{\\bf x}_m}^2$, for standardised random data this is usually around $0.5$. The resulting state is given by\n",
    "\n",
    "\\begin{equation}\n",
    "    \\frac{1}{2\\sqrt{Mp_{acc}}}\\sum_{m=0}^{M-1}\\sum_{i=0}^{N-1} \\ket{m}\\ket{0}\\left({\\tilde{x}}^i + x_m^i\\right)\\ket{i}\\ket{y_m}.\n",
    "\\end{equation}  \n",
    "\n",
    "3. Measure the last qubit $\\ket{y_m}$. The probability that we measure outcome zero is given by\n",
    "\\begin{equation}\n",
    "    p(q_4=0) = \\frac{1}{4Mp_{acc}}\\sum_{m|y_m=0}\\abs{\\bf{\\tilde{{x}}+{x}_m}}^2.\n",
    "\\end{equation}\n",
    "\n",
    "In the special case where the amount of training data for both labels is equal, this last measurement relates to the classifier as described in previous section by\n",
    "\\begin{equation}\n",
    "\\tilde{y} = \\left\\{\n",
    "  \\begin{array}{lr}\n",
    "    -1 & : p(q_4 = 0 ) > p(q_4 = 1)\\\\\n",
    "    +1 & : p(q_4 = 0 ) < p(q_4 = 1)\n",
    "  \\end{array}\n",
    "\\right.    \n",
    "\\end{equation}\n",
    "By setting $\\tilde{y}$ to be the most likely outcome of many measurement shots, we obtain the desired distance-based classifier.\n",
    "\n",
    "\n",
    "[Back to Table of Contents](#contents)"
   ]
  },
  {
   "cell_type": "markdown",
   "metadata": {},
   "source": [
    "<a name=\"dataset\"></a>\n",
    "# Data preprocessing#\n",
    "In the previous section we saw that for amplitude encoding we need a data set which is normalised. Luckily, it is always possible to bring data to this desired form with some data transformations. Firstly, we standardise the data to have zero mean and unit variance, then we normalise the data to have unit length. Both these steps are common methods in machine learning. Effectively, we only have to consider the angle between different data features.\n",
    "\n",
    "To illustrate this procedure we apply it to the first two features of the famous Iris data set:\n"
   ]
  },
  {
   "cell_type": "code",
   "execution_count": 2,
   "metadata": {
    "scrolled": false
   },
   "outputs": [
    {
     "data": {
      "image/png": "[encoded data removed]",
      "text/plain": [
       "<Figure size 576x432 with 1 Axes>"
      ]
     },
     "metadata": {
      "needs_background": "light"
     },
     "output_type": "display_data"
    }
   ],
   "source": [
    "# Plot the data\n",
    "from sklearn.datasets import load_iris\n",
    "\n",
    "iris = load_iris()\n",
    "features = iris.data.T\n",
    "data = [el[0:101] for el in features][0:2]  # Select only the first two features of the dataset\n",
    "\n",
    "half_len_data = len(data[0]) // 2\n",
    "iris_setosa = [el[0:half_len_data] for el in data[0:2]]\n",
    "iris_versicolor = [el[half_len_data:-1] for el in data[0:2]]\n",
    "\n",
    "DataPlotter.plot_original_data(iris_setosa, iris_versicolor);  # Function to plot the data\n"
   ]
  },
  {
   "cell_type": "code",
   "execution_count": 3,
   "metadata": {
    "scrolled": false
   },
   "outputs": [
    {
     "data": {
      "image/png": "[encoded data removed]",
      "text/plain": [
       "<Figure size 576x432 with 1 Axes>"
      ]
     },
     "metadata": {
      "needs_background": "light"
     },
     "output_type": "display_data"
    }
   ],
   "source": [
    "# Rescale the data\n",
    "from sklearn import preprocessing  # Module contains method to rescale data to have zero mean and unit variance\n",
    "\n",
    "# Rescale whole data-set to have zero mean and unit variance\n",
    "features_scaled = [preprocessing.scale(el) for el in data[0:2]]\n",
    "iris_setosa_scaled = [el[0:half_len_data] for el in features_scaled]\n",
    "iris_versicolor_scaled = [el[half_len_data:-1] for el in features_scaled]\n",
    "    \n",
    "DataPlotter.plot_standardised_data(iris_setosa_scaled, iris_versicolor_scaled);  # Function to plot the data\n"
   ]
  },
  {
   "cell_type": "code",
   "execution_count": 4,
   "metadata": {},
   "outputs": [
    {
     "data": {
      "image/png": "[encoded data removed]",
      "text/plain": [
       "<Figure size 576x432 with 1 Axes>"
      ]
     },
     "metadata": {
      "needs_background": "light"
     },
     "output_type": "display_data"
    }
   ],
   "source": [
    "# Normalise the data\n",
    "def normalise_data(arr1, arr2):\n",
    "    \"\"\"Normalise data to unit length\n",
    "        input: two array same length\n",
    "        output: normalised arrays\n",
    "    \"\"\"\n",
    "    for idx in range(len(arr1)):\n",
    "        norm = (arr1[idx]**2 + arr2[idx]**2)**(1 / 2)\n",
    "        arr1[idx] = arr1[idx] / norm\n",
    "        arr2[idx] = arr2[idx] / norm\n",
    "    return [arr1, arr2]\n",
    "\n",
    "\n",
    "iris_setosa_normalised = normalise_data(iris_setosa_scaled[0], iris_setosa_scaled[1])\n",
    "iris_versicolor_normalised = normalise_data(iris_versicolor_scaled[0], iris_versicolor_scaled[1])\n",
    "# Function to plot the data\n",
    "DataPlotter.plot_normalised_data(iris_setosa_normalised, iris_versicolor_normalised);\n"
   ]
  },
  {
   "cell_type": "markdown",
   "metadata": {},
   "source": [
    "[Table of Contents](#contents)"
   ]
  },
  {
   "cell_type": "markdown",
   "metadata": {},
   "source": [
    "<a name=\"algorithm\"></a>\n",
    "\n",
    "# Quantum algorithm #\n",
    "Now we can start with our quantum algorithm on the Quantum Inspire. We describe how to build the algorithm for the simplest case with only two data points, each with two features, that is $M=N=2$. For this algorithm we need 4 qubits:\n",
    "* One qubit for the index register $\\ket{m}$\n",
    "* One ancillary qubit\n",
    "* One qubit to store the information of the two features of the data points \n",
    "* One qubit to store the information of the classes of the data points\n",
    "\n",
    "From the data set described in previous section we pick the following data set $\\mathcal{D} = \\big\\{({\\bf x}_1,y_1), ({\\bf x}_2, y_2) \\big\\}$ where: \n",
    "* ${\\bf x}_1 = (0.9193, 0.3937)$, $y_1 = -1$,\n",
    "* ${\\bf x}_2 = (0.1411, 0.9899)$, $y_2 =  1$.\n",
    "\n",
    "We are interested in the label $\\tilde{y}$ for the data point ${\\bf \\tilde{x}} = (0.8670, 0.4984)$.\n",
    "\n",
    "\n",
    "The amplitude encoding of these data points look like\n",
    "\\begin{equation}\n",
    "    \\begin{split}\n",
    "        \\ket{\\psi_{\\bf\\tilde{x}}} & = 0.8670 \\ket{0} + 0.4984\\ket{1}, \\\\\n",
    "        \\ket{\\psi_{\\bf x_1}} & = 0.9193 \\ket{0} + 0.3937\\ket{1},\\\\\n",
    "        \\ket{\\psi_{\\bf x_2}} & = 0.1411 \\ket{0} + 0.9899\\ket{1}.\n",
    "    \\end{split}\n",
    "\\end{equation}\n",
    "\n",
    "Before we can run the actual algorithm we need to bring the system in the desired [initial state (equation 2)](#state) which can be obtain by applying the following combination of gates starting on $\\ket{0000}$. \n",
    "\n",
    "<img src=\"images/stateprep.png\">\n",
    "\n",
    "* **Part A:** In this part the index register is initialized and the ancilla qubit is brought in the desired state. For this we use the plain QASM language of the Quantum Inspire. Part A consists of two Hadamard gates:\n"
   ]
  },
  {
   "cell_type": "code",
   "execution_count": 5,
   "metadata": {},
   "outputs": [],
   "source": [
    "def part_a():\n",
    "    qasm_a = \"\"\"version 1.0\n",
    "qubits 4\n",
    "prep_z q[0:3]\n",
    ".part_a\n",
    "H q[0:1] #execute Hadamard gate on qubit 0, 1\n",
    "\"\"\"\n",
    "    return qasm_a"
   ]
  },
  {
   "cell_type": "markdown",
   "metadata": {},
   "source": [
    " After this step the system is in the state\n",
    "$$\\ket{\\mathcal{D}_A} = \\frac{1}{2}\\Big(\\ket{0}+\\ket{1}\\Big)\\Big(\\ket{0}+\\ket{1}\\Big)\\ket{0}\\ket{0} $$ "
   ]
  },
  {
   "cell_type": "markdown",
   "metadata": {},
   "source": [
    "\n",
    "* **Part B:** In this part we encode the unlabeled data point $\\tilde{x}$ by making use of a controlled rotation. We entangle the third qubit with the ancillary qubit. The angle $\\theta$ of the rotation should be chosen such that $\\tilde{x}=R_y(\\theta)\\ket{0}$. By the definition of $R_y$ we have\n",
    "$$ R_y(\\theta)\\ket{0} = \\cos\\left(\\frac{\\theta}{2}\\right)\\ket{0} + \\sin\\left(\\frac{\\theta}{2}\\right)\\ket{1}.$$ \n",
    "Therefore, the angle needed to rotate to the state $\\psi=a\\ket{0} + b\\ket{1}$ is given by $\\theta = 2\\cos^{-1}(a)\\cdot sign(b)$.\n",
    "Quantum Inspire does not directly support controlled-$R_y$ gates, however we can construct it from other gates as shown in the figure below. In these pictures $k$ stand for the angle used in the $R_y$ rotation. <img src=\"images/partb.png\">"
   ]
  },
  {
   "cell_type": "code",
   "execution_count": 6,
   "metadata": {},
   "outputs": [],
   "source": [
    "def part_b(angle):\n",
    "    half_angle = angle / 2\n",
    "    qasm_b = \"\"\".part_b # encode test value x^tilde\n",
    "CNOT q[1], q[2]\n",
    "Ry q[2], -{0}\n",
    "CNOT q[1], q[2]\n",
    "Ry q[2], {0}\n",
    "X q[1]\n",
    "\"\"\".format(half_angle)\n",
    "    return qasm_b"
   ]
  },
  {
   "cell_type": "markdown",
   "metadata": {},
   "source": [
    "After this step the system is in the state\n",
    "$$\\ket{\\mathcal{D}_B} = \\frac{1}{2} \\Big(\\ket{0}+\\ket{1}\\Big)\\Big(\\ket{0}\\ket{\\tilde{{x}}}+\\ket{1}\\ket{0}\\Big)\\ket{0}$$\n"
   ]
  },
  {
   "cell_type": "markdown",
   "metadata": {},
   "source": [
    "* **Part C:** In this part we encode the first data point $x_1$. The rotation angle $\\theta$ is such that $\\ket{x_1}  = R_y(\\theta)\\ket{0}$. Now a double controlled-$R_y$ rotation is needed, and similar to Part B, we construct it from other gates as shown in the figure below. <img src=\"images/partc.png\">\n"
   ]
  },
  {
   "cell_type": "code",
   "execution_count": 7,
   "metadata": {},
   "outputs": [],
   "source": [
    "def part_c(angle):\n",
    "    quarter_angle = angle / 4\n",
    "    qasm_c = \"\"\".part_c # encode training x^0 value\n",
    "toffoli q[0],q[1],q[2]\n",
    "CNOT q[0],q[2]\n",
    "Ry q[2], {0}\n",
    "CNOT q[0],q[2]\n",
    "Ry q[2], -{0}\n",
    "toffoli q[0],q[1],q[2]\n",
    "CNOT q[0],q[2]\n",
    "Ry q[2], -{0}\n",
    "CNOT q[0],q[2]\n",
    "Ry q[2], {0}\n",
    "X q[0]\n",
    "\"\"\".format(quarter_angle)\n",
    "    return qasm_c"
   ]
  },
  {
   "cell_type": "markdown",
   "metadata": {},
   "source": [
    "After this step the system is in the state\n",
    "$$\\ket{\\mathcal{D}_C} = \\frac{1}{2}\\Bigg(\\ket{0}\\Big(\\ket{0}\\ket{\\tilde{{x}}} + \\ket{1}\\ket{{x_1}}\\Big) + \\ket{1}\\Big(\\ket{0}\\ket{\\tilde{{x}}} + \\ket{1}\\ket{0}\\Big)\\Bigg) \\ket{0}$$"
   ]
  },
  {
   "cell_type": "markdown",
   "metadata": {},
   "source": [
    "* **Part D:** This part is almost an exact copy of part C, however now with $\\theta$ chosen such that $\\ket{{x}_2}  = R_y(\\theta)\\ket{0}$. \n"
   ]
  },
  {
   "cell_type": "code",
   "execution_count": 8,
   "metadata": {},
   "outputs": [],
   "source": [
    "def part_d(angle):\n",
    "    quarter_angle = angle / 4\n",
    "    qasm_d = \"\"\".part_d # encode training x^1 value\n",
    "toffoli q[0],q[1],q[2]\n",
    "CNOT q[0],q[2]\n",
    "Ry q[2], {0}\n",
    "CNOT q[0],q[2]\n",
    "Ry q[2], -{0}\n",
    "toffoli q[0],q[1],q[2]\n",
    "CNOT q[0],q[2]\n",
    "Ry q[2], -{0}\n",
    "CNOT q[0],q[2]\n",
    "Ry q[2], {0}\n",
    "\"\"\".format(quarter_angle)\n",
    "    return qasm_d"
   ]
  },
  {
   "cell_type": "markdown",
   "metadata": {},
   "source": [
    "After this step the system is in the state\n",
    "$$\\ket{\\mathcal{D}_D} = \\frac{1}{2}\\Bigg(\\ket{0}\\Big(\\ket{0}\\ket{\\tilde{{x}}} + \\ket{1}\\ket{{x_1}}\\Big) + \\ket{1}\\Big(\\ket{0}\\ket{\\tilde{{x}}} + \\ket{1}\\ket{{x}_2}\\Big)\\Bigg) \\ket{0}$$"
   ]
  },
  {
   "cell_type": "markdown",
   "metadata": {},
   "source": [
    "* **Part E:** The last step is to label the last qubit with the correct class, this can be done using a simple CNOT gate between the first and last qubit to obtain the desired initial state\n",
    "$$\\ket{\\mathcal{D}_E} = \\frac{1}{2}\\ket{0}\\Big(\\ket{0}\\ket{\\tilde{{x}}} + \\ket{1}\\ket{{x_1}}\\Big)\\ket{0} + \\ket{1}\\Big(\\ket{0}\\ket{\\tilde{{x}}} + \\ket{1}\\ket{{x}_2}\\Big)\\ket{1}.\n",
    "$$"
   ]
  },
  {
   "cell_type": "code",
   "execution_count": 9,
   "metadata": {},
   "outputs": [],
   "source": [
    "def part_e():\n",
    "    qasm_e = \"\"\".part_e # encode the labels\n",
    "CNOT q[0], q[3]\n",
    "\"\"\"\n",
    "    return qasm_e"
   ]
  },
  {
   "cell_type": "markdown",
   "metadata": {},
   "source": [
    "### The actual algorithm\n",
    "Once the system is in this initial state, the algorithm itself only consists of one Hadamard gate and two measurements. If the first measurement gives the result $\\ket{1}$, we have to abort the algorithm and start over again. However, these results can also easily be filtered out in a post-proecessing step. "
   ]
  },
  {
   "cell_type": "code",
   "execution_count": 10,
   "metadata": {},
   "outputs": [],
   "source": [
    "def part_f():\n",
    "    qasm_f = \"\"\"\n",
    ".part_f\n",
    "H q[1]\n",
    "\"\"\"\n",
    "    return qasm_f"
   ]
  },
  {
   "cell_type": "markdown",
   "metadata": {},
   "source": [
    "The circuit for the whole algorithm now looks like: <img src=\"images/full_circuit.png\">\n",
    "\n",
    "We can send our QASM code to the Quantum Inspire with the following data points\n",
    "\n",
    "\n",
    "\\begin{equation}\n",
    "    \\begin{split}\n",
    "        \\ket{\\psi_{\\tilde{x}}} & = 0.8670 \\ket{0} + 0.4984\\ket{1}, \\\\\n",
    "        \\ket{\\psi_{x_1}} & = 0.9193 \\ket{0} + 0.3937\\ket{1},\\\\\n",
    "        \\ket{\\psi_{x_2}} & = 0.1411 \\ket{0} + 0.9899\\ket{1}.\n",
    "    \\end{split}\n",
    "\\end{equation}\n"
   ]
  },
  {
   "cell_type": "code",
   "execution_count": 11,
   "metadata": {},
   "outputs": [
    {
     "name": "stdout",
     "output_type": "stream",
     "text": [
      "OrderedDict([('9', 0.3988584), ('4', 0.2768809), ('0', 0.1270332), ('13', 0.099428), ('2', 0.0658663), ('6', 0.0302195), ('15', 0.0013716), ('11', 0.0003419)])\n"
     ]
    }
   ],
   "source": [
    "import os\n",
    "from getpass import getpass\n",
    "from coreapi.auth import BasicAuthentication\n",
    "from quantuminspire.credentials import load_account, get_token_authentication, get_basic_authentication\n",
    "from quantuminspire.api import QuantumInspireAPI\n",
    "from math import acos\n",
    "from math import pi\n",
    "\n",
    "QI_EMAIL = os.getenv('QI_EMAIL')\n",
    "QI_PASSWORD = os.getenv('QI_PASSWORD')\n",
    "QI_URL = os.getenv('API_URL', 'https://api.quantum-inspire.com/')\n",
    "\n",
    "## input data points:\n",
    "angle_x_tilde = 2 * acos(0.8670)\n",
    "angle_x0 = 2 * acos(0.1411)\n",
    "angle_x1 = 2 * acos(0.9193)\n",
    "\n",
    "\n",
    "def get_authentication():\n",
    "    \"\"\" Gets the authentication for connecting to the Quantum Inspire API.\"\"\"\n",
    "    token = load_account()\n",
    "    if token is not None:\n",
    "        return get_token_authentication(token)\n",
    "    else:\n",
    "        if QI_EMAIL is None or QI_PASSWORD is None:\n",
    "            print('Enter email')\n",
    "            email = input()\n",
    "            print('Enter password')\n",
    "            password = getpass()\n",
    "        else:\n",
    "            email, password = QI_EMAIL, QI_PASSWORD\n",
    "        return get_basic_authentication(email, password)\n",
    "\n",
    "\n",
    "authentication = get_authentication()\n",
    "qi = QuantumInspireAPI(QI_URL, authentication)\n",
    "\n",
    "## Build final QASM\n",
    "final_qasm = part_a() + part_b(angle_x_tilde) + part_c(angle_x0) + part_d(angle_x1) + part_e() + part_f()\n",
    "\n",
    "backend_type = qi.get_backend_type_by_name('QX single-node simulator')\n",
    "result = qi.execute_qasm(final_qasm, backend_type=backend_type, number_of_shots=1)\n",
    "\n",
    "print(result['histogram'])\n"
   ]
  },
  {
   "cell_type": "code",
   "execution_count": 12,
   "metadata": {
    "scrolled": false
   },
   "outputs": [
    {
     "data": {
      "image/png": "[encoded data removed]",
      "text/plain": [
       "<Figure size 576x432 with 1 Axes>"
      ]
     },
     "metadata": {
      "needs_background": "light"
     },
     "output_type": "display_data"
    }
   ],
   "source": [
    "import matplotlib.pyplot as plt\n",
    "from collections import OrderedDict\n",
    "\n",
    "\n",
    "def bar_plot(result_data):\n",
    "    res = [get_bin(el, 4) for el in range(16)]\n",
    "    prob = [0] * 16\n",
    "\n",
    "    for key, value in result_data['histogram'].items(): \n",
    "        prob[int(key)] = value\n",
    "\n",
    "    # Set color=light grey when 2nd qubit = 1\n",
    "    # Set color=blue when 2nd qubit = 0, and last qubit = 1\n",
    "    # Set color=red when 2nd qubit = 0, and last qubit = 0\n",
    "    color_list = [\n",
    "        'red', 'red', (0.1, 0.1, 0.1, 0.1), (0.1, 0.1, 0.1, 0.1),\n",
    "        'red', 'red', (0.1, 0.1, 0.1, 0.1), (0.1, 0.1, 0.1, 0.1),\n",
    "        'blue', 'blue', (0.1, 0.1, 0.1, 0.1), (0.1, 0.1, 0.1, 0.1),\n",
    "        'blue', 'blue', (0.1, 0.1, 0.1, 0.1), (0.1, 0.1, 0.1, 0.1)\n",
    "                 ]\n",
    "    plt.bar(res, prob, color=color_list)\n",
    "    plt.ylabel('Probability')\n",
    "    plt.title('Results')\n",
    "    plt.ylim(0, 1)\n",
    "    plt.xticks(rotation='vertical')\n",
    "    plt.show()\n",
    "    return prob\n",
    "\n",
    "\n",
    "prob = bar_plot(result)"
   ]
  },
  {
   "cell_type": "markdown",
   "metadata": {},
   "source": [
    "We only consider the events where the second qubit equals 0, that is, we only consider the events in the set $$\\{0000, 0001, 0100, 0101, 1000, 1001, 1100, 1101\\}$$\n",
    "\n",
    "The label $\\tilde{y}$ is now given by\n",
    "\n",
    "\\begin{equation}\n",
    "\\tilde{y} = \\left\\{\n",
    "  \\begin{array}{lr}\n",
    "    -1 & : \\#\\{0000, 0001, 0100, 0101\\} > \\#\\{1000, 1001, 1100, 1101\\}\\\\\n",
    "    +1 & : \\#\\{1000, 1001, 1100, 1101\\} > \\#\\{0000, 0001, 0100, 0101\\}\n",
    "  \\end{array}\n",
    "\\right.    \n",
    "\\end{equation}"
   ]
  },
  {
   "cell_type": "code",
   "execution_count": 13,
   "metadata": {
    "scrolled": true
   },
   "outputs": [
    {
     "name": "stdout",
     "output_type": "stream",
     "text": [
      "The sum of the events with label 0 is: 0.4039141\n",
      "The sum of the events with label 1 is: 0.4982864\n",
      "The label for y_tilde is: 1 because sum_label0 < sum_label1\n"
     ]
    }
   ],
   "source": [
    "def summarize_results(prob, display=1):\n",
    "    sum_label0 = prob[0] + prob[1] + prob[4] + prob[5] \n",
    "    sum_label1 = prob[8] + prob[9] + prob[12] + prob[13]\n",
    "\n",
    "    def y_tilde():\n",
    "        if sum_label0 > sum_label1:\n",
    "            return 0, \">\"\n",
    "        elif sum_label0 < sum_label1:\n",
    "            return 1, \"<\"\n",
    "        else:\n",
    "            return \"undefined\", \"=\"\n",
    "    y_tilde_res, sign = y_tilde()\n",
    "    if display:\n",
    "        print(\"The sum of the events with label 0 is: {}\".format(sum_label0))\n",
    "        print(\"The sum of the events with label 1 is: {}\".format(sum_label1))\n",
    "        print(\"The label for y_tilde is: {} because sum_label0 {} sum_label1\".format(y_tilde_res, sign))\n",
    "    return y_tilde_res\n",
    "\n",
    "\n",
    "summarize_results(prob);"
   ]
  },
  {
   "cell_type": "markdown",
   "metadata": {},
   "source": [
    "The following code will randomly pick two training data points and a random test point for the algorithm. We can compare the prediction for the label by the Quantum Inspire with the true label. "
   ]
  },
  {
   "cell_type": "code",
   "execution_count": 14,
   "metadata": {
    "scrolled": false
   },
   "outputs": [
    {
     "name": "stdout",
     "output_type": "stream",
     "text": [
      "Data point [0.12488587005131098, 0.9921711140027849] from label 0\n",
      "Data point [0.02561201872066766, -0.9996719584428945] from label 1\n",
      "Test point [0.4284577962338798, -0.9035617947027238] from label 1 \n"
     ]
    },
    {
     "data": {
      "image/png": "[encoded data removed]",
      "text/plain": [
       "<Figure size 1152x432 with 2 Axes>"
      ]
     },
     "metadata": {
      "needs_background": "light"
     },
     "output_type": "display_data"
    },
    {
     "name": "stdout",
     "output_type": "stream",
     "text": [
      "The sum of the events with label 0 is: 0.0392551\n",
      "The sum of the events with label 1 is: 0.47855970000000003\n",
      "The label for y_tilde is: 1 because sum_label0 < sum_label1\n"
     ]
    }
   ],
   "source": [
    "from random import sample, randint\n",
    "from numpy import sign\n",
    "\n",
    "\n",
    "def grab_random_data():\n",
    "    one_random_index = sample(range(50), 1)  \n",
    "    two_random_index = sample(range(50), 2)  \n",
    "    random_label = sample([1,0], 1) # random label\n",
    "\n",
    "    ## iris_setosa_normalised  # Label 0\n",
    "    ## iris_versicolor_normalised  # Label 1\n",
    "    if random_label[0]:\n",
    "        # Test data has label = 1, iris_versicolor\n",
    "        data_label0 = [iris_setosa_normalised[0][one_random_index[0]],\n",
    "                       iris_setosa_normalised[1][one_random_index[0]]]\n",
    "        data_label1 = [iris_versicolor_normalised[0][two_random_index[0]],\n",
    "                       iris_versicolor_normalised[1][two_random_index[0]]]\n",
    "        test_data = [iris_versicolor_normalised[0][two_random_index[1]],\n",
    "                     iris_versicolor_normalised[1][two_random_index[1]]] \n",
    "    else:\n",
    "        # Test data has label = 0, iris_setosa\n",
    "        data_label0 = [iris_setosa_normalised[0][two_random_index[0]],\n",
    "                       iris_setosa_normalised[1][two_random_index[0]]]\n",
    "        data_label1 = [iris_versicolor_normalised[0][one_random_index[0]],\n",
    "                       iris_versicolor_normalised[1][one_random_index[0]]]\n",
    "        test_data = [iris_setosa_normalised[0][two_random_index[1]],\n",
    "                     iris_setosa_normalised[1][two_random_index[1]]] \n",
    "    return data_label0, data_label1, test_data, random_label\n",
    "\n",
    "\n",
    "data_label0, data_label1, test_data, random_label = grab_random_data()\n",
    "\n",
    "print(\"Data point {} from label 0\".format(data_label0))\n",
    "print(\"Data point {} from label 1\".format(data_label1))\n",
    "print(\"Test point {} from label {} \".format(test_data, random_label[0]))\n",
    "\n",
    "\n",
    "def run_random_data(data_label0, data_label1, test_data):\n",
    "    angle_x_tilde = 2 * acos(test_data[0]) * sign(test_data[1]) % (4 * pi)\n",
    "    angle_x0 = 2 * acos(data_label0[0]) * sign(data_label0[1]) % (4 * pi)\n",
    "    angle_x1 = 2 * acos(data_label1[0])* sign(data_label1[1]) % (4 * pi)\n",
    "\n",
    "    ## Build final QASM\n",
    "    final_qasm = part_a() + part_b(angle_x_tilde) + part_c(angle_x0) + part_d(angle_x1) + part_e() + part_f()\n",
    "    result_random_data = qi.execute_qasm(final_qasm, backend_type=backend_type, number_of_shots=1)\n",
    "    return result_random_data\n",
    "\n",
    "\n",
    "result_random_data = run_random_data(data_label0, data_label1, test_data);\n",
    "\n",
    "# Plot data points:\n",
    "plt.rcParams['figure.figsize'] = [16, 6]  # Plot size\n",
    "plt.subplot(1, 2, 1)\n",
    "DataPlotter.plot_normalised_data(iris_setosa_normalised, iris_versicolor_normalised);\n",
    "plt.scatter(test_data[0], test_data[1], s=50, c='green');  # Scatter plot data class ?\n",
    "plt.scatter(data_label0[0], data_label0[1], s=50, c='orange');  # Scatter plot data class 0\n",
    "plt.scatter(data_label1[0], data_label1[1], s=50, c='orange');  # Scatter plot data class 1\n",
    "plt.legend([\"Iris Setosa (label 0)\", \"Iris Versicolor (label 1)\", \"Test point\", \"Data points\"])\n",
    "plt.subplot(1, 2, 2)\n",
    "prob_random_points = bar_plot(result_random_data);\n",
    "summarize_results(prob_random_points);\n"
   ]
  },
  {
   "cell_type": "markdown",
   "metadata": {},
   "source": [
    "To get a better idea how well this quantum classifier works we can compare the predicted label to the true label of the test datapoint. Errors in the prediction can have two causes. The quantum classifier does not give the right classifier prediction or the quantum classifier gives the right classifier prediction which for the selected data gives the wrong label. in general, the first type of errors can be reduced by increasing the number of times we run the algorithm. In our case, as we work with the simulator and our gates are deterministic ([no conditional gates](https://www.quantum-inspire.com/kbase/optimization-of-simulations/)), we do not have to deal with this first error if we use the true probability distribution. This can be done by using only a single shot without measurements."
   ]
  },
  {
   "cell_type": "code",
   "execution_count": 15,
   "metadata": {},
   "outputs": [
    {
     "name": "stdout",
     "output_type": "stream",
     "text": [
      "In this sample of 100 data points:\n",
      "the classifier predicted the true label correct 91 % of the times\n",
      "the quantum classifier predicted the true label correct 91 % of the times\n",
      "the quantum classifier predicted the classifier label correct 100 % of the times\n",
      "Could not assign a label  0 times\n"
     ]
    }
   ],
   "source": [
    "quantum_score = 0\n",
    "error_prediction = 0\n",
    "classifier_is_quantum_prediction = 0\n",
    "classifier_score = 0\n",
    "no_label = 0\n",
    "\n",
    "\n",
    "def true_classifier(data_label0, data_label1, test_data):\n",
    "    if np.linalg.norm(np.array(data_label1) - np.array(test_data)) < np.linalg.norm(np.array(data_label0) -\n",
    "                                                                                    np.array(test_data)):\n",
    "        return 1\n",
    "    else:\n",
    "        return 0\n",
    "\n",
    "\n",
    "for idx in range(100):\n",
    "    data_label0, data_label1, test_data, random_label = grab_random_data()\n",
    "    result_random_data = run_random_data(data_label0, data_label1, test_data)\n",
    "    classifier = true_classifier(data_label0, data_label1, test_data)\n",
    "    \n",
    "    sum_label0 = 0\n",
    "    sum_label1 = 0\n",
    "    for key, value in result_random_data['histogram'].items():\n",
    "        if int(key) in [0, 1, 4, 5]:\n",
    "            sum_label0 += value\n",
    "        if int(key) in [8, 9, 12, 13]:\n",
    "            sum_label1 += value\n",
    "    if sum_label0 > sum_label1:\n",
    "        quantum_prediction = 0\n",
    "    elif sum_label1 > sum_label0:\n",
    "        quantum_prediction = 1\n",
    "    else:\n",
    "        no_label += 1\n",
    "        continue\n",
    "        \n",
    "\n",
    "    if quantum_prediction == classifier:\n",
    "        classifier_is_quantum_prediction += 1\n",
    "        \n",
    "    if random_label[0] == classifier:\n",
    "        classifier_score += 1\n",
    "\n",
    "    if quantum_prediction == random_label[0]:\n",
    "        quantum_score += 1\n",
    "    else:\n",
    "        error_prediction += 1\n",
    "\n",
    "print(\"In this sample of 100 data points:\")\n",
    "print(\"the classifier predicted the true label correct\", classifier_score, \"% of the times\")\n",
    "print(\"the quantum classifier predicted the true label correct\", quantum_score, \"% of the times\")\n",
    "print(\"the quantum classifier predicted the classifier label correct\",\n",
    "      classifier_is_quantum_prediction, \"% of the times\")\n",
    "print(\"Could not assign a label \", no_label, \"times\")"
   ]
  },
  {
   "cell_type": "markdown",
   "metadata": {},
   "source": [
    "<a name=\"conclusion\"></a>\n",
    "# Conclusion and further work #\n",
    "\n",
    "\n",
    "How well the quantum classifier performs, hugely depends on the chosen data points. In case the test data point is significantly closer to one of the two training data points the classifier will result in a one-sided prediction. The other case, where the test data point has a similar distance to both training points, the classifier struggles to give an one-sided prediction. Repeating the algorithm on the same data points, might sometimes give different measurement outcomes. This type of error can be improved by running the algorithm using more shots. In the examples above we only used the true probability distribution (as if we had used an infinite number of shots). By running the algorithm instead with 512 or 1024 shots this erroneous behavior can be observed. In case of an infinite number of shots, we see that the quantum classifier gives the same prediction as classically expected.\n",
    "\n",
    "The results of this toy example already shows the potential of a quantum computer in machine learning. Because the actual algorithm consists of only three operations, independent of the size of the data set, it can become extremely useful for tasks such as pattern recognition on large data sets. The next step is to extend this toy model to contain more data features and a larger training data set to improve the prediction. As not all data sets are best classified by a distance-based classifier, implementations of other types of classifiers might also be interesting. For more information on this particular classifier see the reference [ref](https://arxiv.org/abs/1703.10793).\n",
    "\n",
    "[Back to Table of Contents](#contents)"
   ]
  },
  {
   "cell_type": "markdown",
   "metadata": {},
   "source": [
    "### References ###\n",
    "* Book: [Schuld and Petruccione, Supervised learning with Quantum computers, 2018](https://www.springer.com/us/book/9783319964232)  \n",
    "* Article: [Schuld, Fingerhuth and Petruccione, Implementing a distance-based classifier with a quantum interference circuit, 2017](https://arxiv.org/abs/1703.10793)"
   ]
  },
  {
   "cell_type": "markdown",
   "metadata": {},
   "source": [
    "# The same algorithm for the projectQ framework#"
   ]
  },
  {
   "cell_type": "code",
   "execution_count": 16,
   "metadata": {},
   "outputs": [
    {
     "data": {
      "image/png": "[encoded data removed]",
      "text/plain": [
       "<Figure size 576x432 with 1 Axes>"
      ]
     },
     "metadata": {
      "needs_background": "light"
     },
     "output_type": "display_data"
    },
    {
     "name": "stdout",
     "output_type": "stream",
     "text": [
      "Results:\n",
      "{'0010': 0.240234375, '0000': 0.1416015625, '1001': 0.421875, '1011': 0.1015625, '0100': 0.0654296875, '0110': 0.0283203125, '1101': 0.0009765625}\n"
     ]
    }
   ],
   "source": [
    "from math import acos\n",
    "import os\n",
    "from getpass import getpass\n",
    "\n",
    "from quantuminspire.credentials import load_account, get_token_authentication, get_basic_authentication\n",
    "from quantuminspire.api import QuantumInspireAPI\n",
    "from quantuminspire.projectq.backend_qx import QIBackend\n",
    "\n",
    "from projectq import MainEngine\n",
    "from projectq.backends import ResourceCounter\n",
    "from projectq.meta import Compute, Control, Loop, Uncompute\n",
    "from projectq.ops import CNOT, CZ, All, H, Measure, Toffoli, X, Z, Ry, C\n",
    "from projectq.setups import restrictedgateset\n",
    "\n",
    "QI_EMAIL = os.getenv('QI_EMAIL')\n",
    "QI_PASSWORD = os.getenv('QI_PASSWORD')\n",
    "QI_URL = os.getenv('API_URL', 'https://api.quantum-inspire.com/')\n",
    "\n",
    "\n",
    "def get_authentication():\n",
    "    \"\"\" Gets the authentication for connecting to the Quantum Inspire API.\"\"\"\n",
    "    token = load_account()\n",
    "    if token is not None:\n",
    "        return get_token_authentication(token)\n",
    "    else:\n",
    "        if QI_EMAIL is None or QI_PASSWORD is None:\n",
    "            print('Enter email:')\n",
    "            email = input()\n",
    "            print('Enter password')\n",
    "            password = getpass()\n",
    "        else:\n",
    "            email, password = QI_EMAIL, QI_PASSWORD\n",
    "        return get_basic_authentication(email, password)\n",
    "\n",
    "\n",
    "# Remote Quantum Inspire backend #\n",
    "authentication = get_authentication()\n",
    "qi_api = QuantumInspireAPI(QI_URL, authentication)\n",
    "\n",
    "compiler_engines = restrictedgateset.get_engine_list(one_qubit_gates=\"any\",\n",
    "                                                     two_qubit_gates=(CNOT, CZ, Toffoli))\n",
    "compiler_engines.extend([ResourceCounter()])\n",
    "\n",
    "qi_backend = QIBackend(quantum_inspire_api=qi_api)\n",
    "qi_engine = MainEngine(backend=qi_backend, engine_list=compiler_engines)\n",
    "\n",
    "# angles data points:\n",
    "angle_x_tilde = 2 * acos(0.8670)\n",
    "angle_x0 = 2 * acos(0.1411)\n",
    "angle_x1 = 2 * acos(0.9193)\n",
    "\n",
    "qubits = qi_engine.allocate_qureg(4)\n",
    "\n",
    "# part_a\n",
    "for qubit in qubits[0:2]:\n",
    "    H | qubit\n",
    "\n",
    "# part_b\n",
    "C(Ry(angle_x_tilde), 1) | (qubits[1], qubits[2]) # Alternatively build own CRy gate as done above\n",
    "X | qubits[1]\n",
    "\n",
    "# part_c\n",
    "C(Ry(angle_x0), 2) | (qubits[0], qubits[1], qubits[2]) # Alternatively build own CCRy gate as done above\n",
    "X | qubits[0]\n",
    "\n",
    "# part_d\n",
    "C(Ry(angle_x1), 2) | (qubits[0], qubits[1], qubits[2]) # Alternatively build own CCRy gate as done above\n",
    "\n",
    "# part_e\n",
    "CNOT | (qubits[0], qubits[3])\n",
    "\n",
    "# part_f\n",
    "H | qubits[1]\n",
    "\n",
    "qi_engine.flush()\n",
    "\n",
    "# Results:\n",
    "temp_results = qi_backend.get_probabilities(qubits)\n",
    "\n",
    "res = [get_bin(el, 4) for el in range(16)]\n",
    "prob = [0] * 16\n",
    "for key, value in temp_results.items(): \n",
    "    prob[int(key[::-1], 2)] = value  # Reverse as projectQ has a different qubit ordering\n",
    "\n",
    "color_list = [\n",
    "    'red', 'red', (0.1, 0.1, 0.1, 0.1), (0.1, 0.1, 0.1, 0.1),\n",
    "    'red', 'red', (0.1, 0.1, 0.1, 0.1), (0.1, 0.1, 0.1, 0.1),\n",
    "    'blue', 'blue', (0.1, 0.1, 0.1, 0.1), (0.1, 0.1, 0.1, 0.1),\n",
    "    'blue', 'blue', (0.1, 0.1, 0.1, 0.1), (0.1, 0.1, 0.1, 0.1)\n",
    "             ]\n",
    "plt.bar(res, prob, color=color_list)\n",
    "plt.ylabel('Probability')\n",
    "plt.title('Results')\n",
    "plt.ylim(0, 1)\n",
    "plt.xticks(rotation='vertical')\n",
    "plt.show()\n",
    "print(\"Results:\")\n",
    "print(temp_results)"
   ]
  },
  {
   "cell_type": "code",
   "execution_count": null,
   "metadata": {},
   "outputs": [],
   "source": []
  }
 ],
 "metadata": {
  "kernelspec": {
   "display_name": "Python 3",
   "language": "python",
   "name": "python3"
  },
  "language_info": {
   "codemirror_mode": {
    "name": "ipython",
    "version": 3
   },
   "file_extension": ".py",
   "mimetype": "text/x-python",
   "name": "python",
   "nbconvert_exporter": "python",
   "pygments_lexer": "ipython3",
   "version": "3.6.8"
  }
 },
 "nbformat": 4,
 "nbformat_minor": 2
}
